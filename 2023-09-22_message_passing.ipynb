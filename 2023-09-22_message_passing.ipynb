{
 "cells": [
  {
   "cell_type": "markdown",
   "id": "37e7432f-40cd-402f-8a01-dbbcb76193d1",
   "metadata": {},
   "source": [
    "# Message Passing"
   ]
  },
  {
   "cell_type": "markdown",
   "id": "02e33864-1d76-411e-a245-d7a7056a8237",
   "metadata": {},
   "source": [
    "Let $\\textbf{h}_v^{(0)} = \\textbf{x}_v$ be the feature for node $v$, and $\\textbf{e}_{u,v}$ be the feature for edge $(u,v)$.\n",
    "\n",
    "The message passing paradigm defines the following node-wise and edge-wise computation at the next graph neural net (GNN) layer\n",
    "\n",
    "Edge-Wise: \n",
    "$\\textbf{m}_{u,v}^{(l+1)} = ϕ(\\textbf{h}_v^{(l)}, \\textbf{h}_u^{(l)}, \\textbf{e}_{u,v})$\n",
    "\n",
    "Node-Wise:\n",
    "$\\textbf{h}_{v}^{(l+1)} = ψ(\\textbf{h}_v^{(l)}, ρ(\\{\\textbf{m}_{u,v}^{(l+1)}\\ ∀ u ∈ \\mathcal{N}(v)\\})$\n",
    "\n",
    "In the above equations, $ϕ$ is a message function defined on each edge to generate a message by combining the edge feature with the features of its incident nodes, $u ∈  \\mathcal{N}(v)$; $ψ$ is an update function defined on each node to update the node feature by aggregating its incoming messages using the reduce function $ρ$."
   ]
  },
  {
   "cell_type": "markdown",
   "id": "764acf75-472b-485a-b681-5611f29667ab",
   "metadata": {},
   "source": [
    "In DGL, message function takes a single argument edges, which is an EdgeBatch instance. During message passing, DGL generates it internally to represent a batch of edges. It has three members src, dst and data to access features of source nodes, destination nodes, and edges, respectively.\n",
    "\n",
    "reduce function takes a single argument nodes, which is a NodeBatch instance. During message passing, DGL generates it internally to represent a batch of nodes. It has member mailbox to access the messages received for the nodes in the batch. Some of the most common reduce operations include sum, max, min, etc.\n",
    "\n",
    "update function takes a single argument nodes as described above. This function operates on the aggregation result from reduce function, typically combining it with a node’s original feature at the the last step and saving the result as a node feature.\n",
    "\n",
    "DGL has implemented commonly used message functions and reduce functions as built-in in the namespace dgl.function. In general, DGL suggests using built-in functions whenever possible since they are heavily optimized and automatically handle dimension broadcasting.\n",
    "\n",
    "If your message passing functions cannot be implemented with built-ins, you can implement user-defined message/reduce function (aka. UDF).\n",
    "\n",
    "Built-in message functions can be unary or binary. DGL supports copy for unary. For binary funcs, DGL supports add, sub, mul, div, dot. The naming convention for message built-in funcs is that u represents src nodes, v represents dst nodes, and e represents edges. The parameters for those functions are strings indicating the input and output field names for the corresponding nodes and edges. The list of supported built-in functions can be found in DGL Built-in Function. For example, to add the hu feature from src nodes and hv feature from dst nodes then save the result on the edge at he field, one can use built-in function dgl.function.u_add_v('hu', 'hv', 'he'). This is equivalent to the Message UDF:"
   ]
  },
  {
   "cell_type": "code",
   "execution_count": null,
   "id": "b48e8226-a5ca-4e0b-94e7-cfda8fffc1b4",
   "metadata": {},
   "outputs": [],
   "source": []
  },
  {
   "cell_type": "code",
   "execution_count": 1,
   "id": "60b4bd0a-f8ca-4326-9e6c-421f5553d82c",
   "metadata": {},
   "outputs": [
    {
     "data": {
      "text/plain": [
       "<torch._C.Generator at 0x2d156d2b970>"
      ]
     },
     "execution_count": 1,
     "metadata": {},
     "output_type": "execute_result"
    }
   ],
   "source": [
    "import numpy as np\n",
    "\n",
    "import dgl\n",
    "import torch\n",
    "import torch.nn as nn\n",
    "import torch.nn.functional as F\n",
    "\n",
    "from dgl.nn import SAGEConv\n",
    "\n",
    "import networkx as nx\n",
    "\n",
    "import matplotlib.pyplot as plt\n",
    "\n",
    "import dgl.function as fn\n",
    "\n",
    "torch.manual_seed(0)"
   ]
  },
  {
   "cell_type": "code",
   "execution_count": 2,
   "id": "3bfb545e-1c1c-4c83-aede-ced05dc8ca96",
   "metadata": {},
   "outputs": [],
   "source": [
    "# Instantiate a graph and set a node feature 'h'.\n",
    "u = torch.tensor([0,0,2,0])\n",
    "v = torch.tensor([1,2,3,3])\n",
    "g = dgl.graph((u, v))\n",
    "g.ndata['h'] = torch.tensor([[1, 0],\n",
    "                             [1, 0],\n",
    "                             [1, 0],\n",
    "                             [1, 0]])\n",
    "#torch.ones(2, 1)"
   ]
  },
  {
   "cell_type": "code",
   "execution_count": 3,
   "id": "7ab1e53b-2ace-4d4c-8085-fbf19e60dfde",
   "metadata": {},
   "outputs": [
    {
     "data": {
      "text/plain": [
       "{'h': tensor([[1, 0],\n",
       "        [1, 0],\n",
       "        [1, 0],\n",
       "        [1, 0]])}"
      ]
     },
     "execution_count": 3,
     "metadata": {},
     "output_type": "execute_result"
    }
   ],
   "source": [
    "x = g.ndata\n",
    "x"
   ]
  },
  {
   "cell_type": "code",
   "execution_count": 4,
   "id": "2cb1367a-61e6-4e8b-af70-c01b0f810e89",
   "metadata": {},
   "outputs": [
    {
     "data": {
      "text/plain": [
       "{}"
      ]
     },
     "execution_count": 4,
     "metadata": {},
     "output_type": "execute_result"
    }
   ],
   "source": [
    "g.edata"
   ]
  },
  {
   "cell_type": "code",
   "execution_count": 5,
   "id": "f9e85d15-b1f1-4acb-a8fd-cb25375f894b",
   "metadata": {},
   "outputs": [
    {
     "data": {
      "image/png": "[encoded data removed]",
      "text/plain": [
       "<Figure size 640x480 with 1 Axes>"
      ]
     },
     "metadata": {},
     "output_type": "display_data"
    }
   ],
   "source": [
    "plt.figure(1)\n",
    "plt.subplot(111)\n",
    "nx.draw(g.to_networkx(), with_labels=True)"
   ]
  },
  {
   "cell_type": "markdown",
   "id": "501ba89e-bf8f-4213-98c0-ce1b6cbcbcb3",
   "metadata": {},
   "source": [
    "Messages are passed along the edges from node to node.\n",
    "\n",
    "The message function is in general from node $u$ to $v$ is:\n",
    "\n",
    "$\\textbf{m}_{u,v}=ϕ(\\textbf{h}_v,\\textbf{h}_u,\\textbf{e}_{u,v})$"
   ]
  },
  {
   "cell_type": "markdown",
   "id": "43dadbf9-0024-439a-8349-3b461fbb7664",
   "metadata": {},
   "source": [
    "# Message Function"
   ]
  },
  {
   "cell_type": "markdown",
   "id": "91a7dad2-57c0-4cb5-ace9-4a4b05e02b73",
   "metadata": {},
   "source": [
    "In DGL, **message function** takes a single argument edges, which is an EdgeBatch instance. During message passing, DGL generates it internally to represent a batch of edges. It has three members src, dst and data to access features of source nodes, destination nodes, and edges, respectively."
   ]
  },
  {
   "cell_type": "markdown",
   "id": "1652ca95-d129-4648-9560-18d78b3663e9",
   "metadata": {},
   "source": [
    "A simple **message function** is to return the source node feature, this can be stored in edge with the feature label `m` for message\n",
    "\n",
    "This can be written below:"
   ]
  },
  {
   "cell_type": "code",
   "execution_count": 6,
   "id": "2332f2d7-4147-4b5d-af6e-0c076e02c913",
   "metadata": {},
   "outputs": [],
   "source": [
    "def message_func(edges):\n",
    "    # edges.src['h'] is a tensor of shape (E, 1),\n",
    "    # where E is the number of edges in the batch.\n",
    "    return {'m': edges.src['h']}"
   ]
  },
  {
   "cell_type": "markdown",
   "id": "c8ce27a8-5858-4443-8273-fa8d46070e5b",
   "metadata": {},
   "source": [
    "`edges.src` calls source node $u$.\n",
    "\n",
    "`edges.src['h']` calls the $\\textbf{h}_u$ feature of the source node $u$."
   ]
  },
  {
   "cell_type": "markdown",
   "id": "2dcd5548-d310-444e-89e1-c7732cbea21a",
   "metadata": {},
   "source": [
    "# Aggregation (or Reduce) Function"
   ]
  },
  {
   "cell_type": "markdown",
   "id": "9bb3e716-77a9-4a78-a9d8-62e344d777e2",
   "metadata": {},
   "source": [
    "For messages to be passed to a destination node, the multiple messages from different source nodes may need to be aggregated with an **aggregate** or **reduce function** "
   ]
  },
  {
   "cell_type": "markdown",
   "id": "abe74ffe-f7f0-4e64-b1e3-a34ba37cb53a",
   "metadata": {},
   "source": [
    "reduce function takes a single argument nodes, which is a NodeBatch instance. During message passing, DGL generates it internally to represent a batch of nodes. It has member mailbox to access the messages received for the nodes in the batch. Some of the most common reduce operations include sum, max, min, etc."
   ]
  },
  {
   "cell_type": "markdown",
   "id": "1206bc99-7397-43d5-a2b0-7360074fee83",
   "metadata": {},
   "source": [
    "DGL has implemented commonly used message functions and reduce functions as built-in in the namespace dgl.function. In general, DGL suggests using built-in functions whenever possible since they are heavily optimized and automatically handle dimension broadcasting."
   ]
  },
  {
   "cell_type": "markdown",
   "id": "e5f588dd-70e2-4ca9-beba-a4aee874cde5",
   "metadata": {},
   "source": [
    "A sum aggregation can be written as"
   ]
  },
  {
   "cell_type": "code",
   "execution_count": 7,
   "id": "fbd4d8fc-2fc4-432e-9601-5e6624ded87c",
   "metadata": {},
   "outputs": [],
   "source": [
    "def reduce_func(nodes):\n",
    "     return {'h': torch.sum(nodes.mailbox['m'], dim=1)}"
   ]
  },
  {
   "cell_type": "markdown",
   "id": "92ed1379-beb7-4754-8fac-3307037eba29",
   "metadata": {},
   "source": [
    "or `dgl.function.sum('m', 'h')`"
   ]
  },
  {
   "cell_type": "markdown",
   "id": "36a90105-ea51-4ac6-9b32-52764517e0cb",
   "metadata": {},
   "source": [
    "Built-in reduce functions support operations sum, max, min, and mean. Reduce functions usually have two parameters, one for field name in mailbox, one for field name in node features, both are strings. For example, dgl.function.sum('m', 'h') is equivalent to the Reduce UDF that sums up the message m:\n",
    "\n",
    "`def reduce_func(nodes): \n",
    "     return {'h': torch.sum(nodes.mailbox['m'], dim=1)\n",
    "`}"
   ]
  },
  {
   "cell_type": "markdown",
   "id": "1f76eb65-f2b3-49e3-b03a-d08811dad615",
   "metadata": {},
   "source": [
    "# Passing the Messages"
   ]
  },
  {
   "cell_type": "markdown",
   "id": "4dadaa5e-5523-400b-bd47-a4f2f56d7aa3",
   "metadata": {},
   "source": [
    "The messages from source nodes $u$ can now be passed and aggregated to the destination nodes $v$ using the `update_all` function."
   ]
  },
  {
   "cell_type": "markdown",
   "id": "db6461f7-1e6d-467a-8f13-7778d5883138",
   "metadata": {},
   "source": [
    "`DGLGraph.update_all(message_func, reduce_func, apply_node_func=None, etype=None)`\n",
    "\n",
    "Send messages along all the edges of the specified type and update all the nodes of the corresponding destination type.\n",
    "\n",
    "For heterogeneous graphs with number of relation types > 1, send messages along all the edges, reduce them by type-wisely and across different types at the same time. Then, update the node features of all the nodes.\n",
    "\n",
    "Parameters\n",
    "message_func (dgl.function.BuiltinFunction or callable) – The message function to generate messages along the edges. It must be either a DGL Built-in Function or a User-defined Functions.\n",
    "\n",
    "reduce_func (dgl.function.BuiltinFunction or callable) – The reduce function to aggregate the messages. It must be either a DGL Built-in Function or a User-defined Functions.\n",
    "\n",
    "apply_node_func (callable, optional) – An optional apply function to further update the node features after the message reduction. It must be a User-defined Functions.\n",
    "\n",
    "etype (str or (str, str, str), optional) –\n",
    "\n",
    "The type name of the edges. The allowed type name formats are:\n",
    "\n",
    "(str, str, str) for source node type, edge type and destination node type.\n",
    "\n",
    "or one str edge type name if the name can uniquely identify a triplet format in the graph.\n",
    "\n",
    "Can be omitted if the graph has only one type of edges."
   ]
  },
  {
   "cell_type": "markdown",
   "id": "b17cd4bc-daec-45c6-8979-bb502439334a",
   "metadata": {},
   "source": [
    "For now we'll ignore the apply_node_func function for now.m"
   ]
  },
  {
   "cell_type": "code",
   "execution_count": 8,
   "id": "e4ba1249-7d3f-42ce-a43f-6c516667014c",
   "metadata": {},
   "outputs": [],
   "source": [
    "g.update_all(message_func, reduce_func)"
   ]
  },
  {
   "cell_type": "markdown",
   "id": "ddda375d-4a54-4540-8797-4694348adafc",
   "metadata": {},
   "source": [
    "The original node features are $\\textbf{h}_v^{0} = \\textbf{x}_v$"
   ]
  },
  {
   "cell_type": "markdown",
   "id": "6c69a9c2-0cc4-4cc6-8e1f-a6843e71afc4",
   "metadata": {},
   "source": [
    "And after the first round, or layer, of message passing and aggregation the node features are updated to $\\textbf{z}_v = \\textbf{h}_v^{1}$"
   ]
  },
  {
   "cell_type": "code",
   "execution_count": 9,
   "id": "8aeed18b-4ed6-4ce5-ac63-e71dd2d39f03",
   "metadata": {},
   "outputs": [
    {
     "data": {
      "text/plain": [
       "tensor([[0, 0],\n",
       "        [1, 0],\n",
       "        [1, 0],\n",
       "        [2, 0]])"
      ]
     },
     "execution_count": 9,
     "metadata": {},
     "output_type": "execute_result"
    }
   ],
   "source": [
    "z = g.ndata['h']\n",
    "z"
   ]
  },
  {
   "cell_type": "markdown",
   "id": "6c0d68e3-bcf1-4dfd-b90d-5d50d07e9a15",
   "metadata": {},
   "source": [
    "Oftentimes, the new aggregated node features will go through one final function referred to as an **update function**.\n",
    "\n",
    "This function could be something like an activation ($\\textrm{Sigmoid}(.)$, $\\textrm{ReLU}(.)$, etc.) and/or a combination or concatentation with the original node features. Afterall, note that for node $u=0$ its aggregated features are all null because there are no messages passing to this node."
   ]
  },
  {
   "cell_type": "markdown",
   "id": "bc0e44e9-327d-4e16-b92d-7ed02ee37e4f",
   "metadata": {},
   "source": [
    "This final update function *could* be applied within the above `update_all` function, but DGL recommends against this. Instead, they suggest apply the *update function* explicitly after using DGL's `update_all` function. Terminology wise, this can get confusing. \n",
    "\n",
    "But remember, it's best to apply the **message** and **reduce** functions using DGL's `update_all` function. Then any final **update**, such as an activation or concatenation, you wish to do the aggregated results should be done afterwards."
   ]
  },
  {
   "cell_type": "code",
   "execution_count": 10,
   "id": "58187d81-5620-4e54-8312-2eabc09db179",
   "metadata": {},
   "outputs": [],
   "source": [
    "def custom_update(graph):\n",
    "    g.update_all(message_func, reduce_func)\n",
    "    \n",
    "    # Call update function outside of update_all\n",
    "    final_h = torch.sigmoid(torch.tensor(graph.ndata['h']))\n",
    "    return final_h"
   ]
  },
  {
   "cell_type": "code",
   "execution_count": 11,
   "id": "6dd9cb93-d418-4765-8e9e-4b42c5668dcb",
   "metadata": {},
   "outputs": [
    {
     "data": {
      "text/plain": [
       "tensor([[1, 0],\n",
       "        [1, 0],\n",
       "        [1, 0],\n",
       "        [1, 0]])"
      ]
     },
     "execution_count": 11,
     "metadata": {},
     "output_type": "execute_result"
    }
   ],
   "source": [
    "u = torch.tensor([0,0,2,0])\n",
    "v = torch.tensor([1,2,3,3])\n",
    "g = dgl.graph((u, v))\n",
    "g.ndata['h'] = torch.tensor([[1, 0],\n",
    "                             [1, 0],\n",
    "                             [1, 0],\n",
    "                             [1, 0]])\n",
    "\n",
    "x = g.ndata['h']\n",
    "x"
   ]
  },
  {
   "cell_type": "code",
   "execution_count": 12,
   "id": "60a40b29-dd5e-4751-ba28-0ca7f13db5e1",
   "metadata": {},
   "outputs": [
    {
     "name": "stderr",
     "output_type": "stream",
     "text": [
      "C:\\Users\\Alex\\AppData\\Local\\Temp\\ipykernel_17728\\2933635481.py:5: UserWarning: To copy construct from a tensor, it is recommended to use sourceTensor.clone().detach() or sourceTensor.clone().detach().requires_grad_(True), rather than torch.tensor(sourceTensor).\n",
      "  final_h = torch.sigmoid(torch.tensor(graph.ndata['h']))\n"
     ]
    },
    {
     "data": {
      "text/plain": [
       "tensor([[0.5000, 0.5000],\n",
       "        [0.7311, 0.5000],\n",
       "        [0.7311, 0.5000],\n",
       "        [0.8808, 0.5000]])"
      ]
     },
     "execution_count": 12,
     "metadata": {},
     "output_type": "execute_result"
    }
   ],
   "source": [
    "z = custom_update(g)\n",
    "z"
   ]
  },
  {
   "cell_type": "markdown",
   "id": "cbf907f8-26f4-4931-a3b3-46fe4877dbcf",
   "metadata": {
    "jp-MarkdownHeadingCollapsed": true
   },
   "source": [
    "Now, we see that the $\\textrm{Sigmoid}$ function has been applied to our previous $\\textbf{z}_v = \\textbf{h}_v^{1}$ values using our `custom_update` function."
   ]
  },
  {
   "cell_type": "markdown",
   "id": "c9c71cbd-2fa5-4f10-ab4b-fbc3fc29e621",
   "metadata": {},
   "source": [
    "## Applying only edge-wise computations"
   ]
  },
  {
   "cell_type": "markdown",
   "id": "1a0c883e-b876-4e69-b6a1-6c5090ebc58d",
   "metadata": {},
   "source": [
    "It is also possible to invoke only edge-wise computation by apply_edges() without invoking message passing. apply_edges() takes a message function for parameter and by default updates the features of all edges. For example:"
   ]
  },
  {
   "cell_type": "markdown",
   "id": "66507894-45b5-4139-be3b-ad8753ffe5fd",
   "metadata": {},
   "source": [
    "These `src` features can be applied to the edges with the `applied_edges` function"
   ]
  },
  {
   "cell_type": "code",
   "execution_count": 13,
   "id": "1c02c7f5-8a84-402f-9934-ec43f6a5af03",
   "metadata": {},
   "outputs": [],
   "source": [
    "# Copy features from source nodes to edges.\n",
    "#g_.apply_edges(edge_copy_src)"
   ]
  },
  {
   "cell_type": "code",
   "execution_count": null,
   "id": "0e906fc6-478e-4fec-b018-3c6f56e69d83",
   "metadata": {},
   "outputs": [],
   "source": []
  },
  {
   "cell_type": "markdown",
   "id": "8a231d4d-81f6-4e0e-b80c-94b91e3fdcbb",
   "metadata": {},
   "source": [
    "# A Simple Message Passing Example"
   ]
  },
  {
   "cell_type": "code",
   "execution_count": 14,
   "id": "595764aa-1e7b-4269-bb0d-9bcaa59cd3ae",
   "metadata": {},
   "outputs": [
    {
     "data": {
      "image/png": "[encoded data removed]",
      "text/plain": [
       "<Figure size 640x480 with 1 Axes>"
      ]
     },
     "metadata": {},
     "output_type": "display_data"
    }
   ],
   "source": [
    "# Instantiate a graph and set a node feature 'h'.\n",
    "u = torch.tensor([0,0,2,0])\n",
    "v = torch.tensor([1,2,3,3])\n",
    "g = dgl.graph((u, v))\n",
    "g.ndata['h'] = torch.tensor([[1, 0],\n",
    "                             [0, 0],\n",
    "                             [0, 0],\n",
    "                             [0, 0]], dtype=torch.float32)\n",
    "\n",
    "g.ndata['i'] = torch.tensor([0,1,2,3])\n",
    "\n",
    "\n",
    "plt.figure(1)\n",
    "plt.subplot(111)\n",
    "nx.draw(g.to_networkx(), with_labels=True)"
   ]
  },
  {
   "cell_type": "code",
   "execution_count": 15,
   "id": "94dc57c3-9cde-42da-9b49-52c2ea2cbb54",
   "metadata": {},
   "outputs": [],
   "source": [
    "def message_func(edges):\n",
    "\n",
    "    h0 = edges.src['h']\n",
    "    m1 = h0 \n",
    "    print('EdgeBatch properties')\n",
    "    print('m = h')\n",
    "    print()\n",
    "    \n",
    "    return {'m': m1}\n",
    "\n",
    "def aggregate_func(nodes):\n",
    "\n",
    "    print('NodeBatch properties')\n",
    "    print(f\"Dst nodes : {nodes.data['i']}\")\n",
    "    print()\n",
    "    print(f\"Messages from src nodes : {nodes.mailbox}\")\n",
    "    print()\n",
    "    print(f\"Dst node data : {nodes.data}\")\n",
    "    print()\n",
    "    print('Average incoming messages: h1 = Mean(m)')\n",
    "\n",
    "    h1 = torch.mean(nodes.mailbox['m'], dim=1)\n",
    "\n",
    "    print({'h1': h1})\n",
    "    print()\n",
    "    print('---')\n",
    "\n",
    "    return {'h1': h1}"
   ]
  },
  {
   "cell_type": "code",
   "execution_count": 16,
   "id": "7baff04c-15a3-4c0d-9a42-5a64ff912f60",
   "metadata": {},
   "outputs": [
    {
     "name": "stdout",
     "output_type": "stream",
     "text": [
      "EdgeBatch properties\n",
      "m = h\n",
      "\n",
      "NodeBatch properties\n",
      "Dst nodes : tensor([1, 2])\n",
      "\n",
      "Messages from src nodes : {'m': tensor([[[1., 0.]],\n",
      "\n",
      "        [[1., 0.]]])}\n",
      "\n",
      "Dst node data : {'h': tensor([[0., 0.],\n",
      "        [0., 0.]]), 'i': tensor([1, 2])}\n",
      "\n",
      "Average incoming messages: h1 = Mean(m)\n",
      "{'h1': tensor([[1., 0.],\n",
      "        [1., 0.]])}\n",
      "\n",
      "---\n",
      "NodeBatch properties\n",
      "Dst nodes : tensor([3])\n",
      "\n",
      "Messages from src nodes : {'m': tensor([[[0., 0.],\n",
      "         [1., 0.]]])}\n",
      "\n",
      "Dst node data : {'h': tensor([[0., 0.]]), 'i': tensor([3])}\n",
      "\n",
      "Average incoming messages: h1 = Mean(m)\n",
      "{'h1': tensor([[0.5000, 0.0000]])}\n",
      "\n",
      "---\n"
     ]
    }
   ],
   "source": [
    "g.update_all(message_func, aggregate_func)"
   ]
  },
  {
   "cell_type": "code",
   "execution_count": 17,
   "id": "bdb70ee4-90d4-470c-a5d4-fdfe8a5b5d68",
   "metadata": {},
   "outputs": [
    {
     "data": {
      "text/plain": [
       "tensor([[1., 0.],\n",
       "        [0., 0.],\n",
       "        [0., 0.],\n",
       "        [0., 0.]])"
      ]
     },
     "execution_count": 17,
     "metadata": {},
     "output_type": "execute_result"
    }
   ],
   "source": [
    "g.ndata['h']"
   ]
  },
  {
   "cell_type": "code",
   "execution_count": 18,
   "id": "141258ad-ac1e-4577-8fff-10b1434c43fc",
   "metadata": {},
   "outputs": [
    {
     "data": {
      "text/plain": [
       "tensor([[0.0000, 0.0000],\n",
       "        [1.0000, 0.0000],\n",
       "        [1.0000, 0.0000],\n",
       "        [0.5000, 0.0000]])"
      ]
     },
     "execution_count": 18,
     "metadata": {},
     "output_type": "execute_result"
    }
   ],
   "source": [
    "g.ndata['h1']"
   ]
  },
  {
   "cell_type": "code",
   "execution_count": 19,
   "id": "4771fde8-2d2c-49c2-8419-1ad94a64050f",
   "metadata": {},
   "outputs": [
    {
     "data": {
      "image/png": "[encoded data removed]",
      "text/plain": [
       "<Figure size 640x480 with 1 Axes>"
      ]
     },
     "metadata": {},
     "output_type": "display_data"
    }
   ],
   "source": [
    "plt.figure(1)\n",
    "plt.subplot(111)\n",
    "nx.draw(g.to_networkx(), with_labels=True)"
   ]
  },
  {
   "cell_type": "markdown",
   "id": "7ec97a2f-69ba-4da6-a13d-42cf9e1d2afd",
   "metadata": {},
   "source": [
    "# An example with linear layers"
   ]
  },
  {
   "cell_type": "code",
   "execution_count": 20,
   "id": "929c4ae3-519f-4055-b1a8-16fb16bd31c3",
   "metadata": {},
   "outputs": [
    {
     "data": {
      "image/png": "[encoded data removed]",
      "text/plain": [
       "<Figure size 640x480 with 1 Axes>"
      ]
     },
     "metadata": {},
     "output_type": "display_data"
    }
   ],
   "source": [
    "# Instantiate a graph and set a node feature 'h'.\n",
    "u = torch.tensor([0,0,2,0])\n",
    "v = torch.tensor([1,2,3,3])\n",
    "g = dgl.graph((u, v))\n",
    "g.ndata['h'] = torch.tensor([[1, 0],\n",
    "                             [0, 0],\n",
    "                             [0, 0],\n",
    "                             [0, 0]], dtype=torch.float32)\n",
    "\n",
    "g.ndata['i'] = torch.tensor([0,1,2,3])\n",
    "\n",
    "\n",
    "plt.figure(1)\n",
    "plt.subplot(111)\n",
    "nx.draw(g.to_networkx(), with_labels=True)"
   ]
  },
  {
   "cell_type": "code",
   "execution_count": 21,
   "id": "86723294-363d-49ca-85cc-deafef390fb7",
   "metadata": {},
   "outputs": [],
   "source": [
    "MLP = nn.Linear(2,2)"
   ]
  },
  {
   "cell_type": "code",
   "execution_count": 22,
   "id": "0057ef69-3efa-45b4-a826-702506a91e3d",
   "metadata": {},
   "outputs": [],
   "source": [
    "def message_func(edges):\n",
    "\n",
    "    h0 = edges.src['h']\n",
    "    m1 = MLP(h0) \n",
    "    print('EdgeBatch properties')\n",
    "    print(f'Src node features : {h0}')\n",
    "    print()\n",
    "    print('Messages calculated from src features using a linear layer: m = W(h)')\n",
    "    print({'m': m1})\n",
    "    print()\n",
    "    print('---')\n",
    "    \n",
    "    return {'m': m1}\n",
    "\n",
    "def aggregate_func(nodes):\n",
    "\n",
    "    print('NodeBatch properties')\n",
    "    print(f\"Dst nodes : {nodes.data['i']}\")\n",
    "    print()\n",
    "    print(f\"Messages from src nodes : {nodes.mailbox}\")\n",
    "    print()\n",
    "    print(f\"Dst node data : {nodes.data}\")\n",
    "    print()\n",
    "    print('Average incoming messages: h1 = Mean(m)')\n",
    "\n",
    "    h1 = torch.mean(nodes.mailbox['m'], dim=1)\n",
    "\n",
    "    print({'h1': h1})\n",
    "    print()\n",
    "    print('------')\n",
    "\n",
    "    return {'h1': h1}"
   ]
  },
  {
   "cell_type": "code",
   "execution_count": 23,
   "id": "8ec8cbf1-8e73-43c2-b6f6-fcd37fa18418",
   "metadata": {},
   "outputs": [
    {
     "name": "stdout",
     "output_type": "stream",
     "text": [
      "EdgeBatch properties\n",
      "Src node features : tensor([[1., 0.],\n",
      "        [1., 0.],\n",
      "        [0., 0.],\n",
      "        [1., 0.]])\n",
      "\n",
      "Messages calculated from src features using a linear layer: m = W(h)\n",
      "{'m': tensor([[-0.2776, -0.3924],\n",
      "        [-0.2776, -0.3924],\n",
      "        [-0.2723,  0.1896],\n",
      "        [-0.2776, -0.3924]], grad_fn=<AddmmBackward0>)}\n",
      "\n",
      "---\n",
      "NodeBatch properties\n",
      "Dst nodes : tensor([1, 2])\n",
      "\n",
      "Messages from src nodes : {'m': tensor([[[-0.2776, -0.3924]],\n",
      "\n",
      "        [[-0.2776, -0.3924]]], grad_fn=<ReshapeAliasBackward0>)}\n",
      "\n",
      "Dst node data : {'h': tensor([[0., 0.],\n",
      "        [0., 0.]]), 'i': tensor([1, 2])}\n",
      "\n",
      "Average incoming messages: h1 = Mean(m)\n",
      "{'h1': tensor([[-0.2776, -0.3924],\n",
      "        [-0.2776, -0.3924]], grad_fn=<MeanBackward1>)}\n",
      "\n",
      "------\n",
      "NodeBatch properties\n",
      "Dst nodes : tensor([3])\n",
      "\n",
      "Messages from src nodes : {'m': tensor([[[-0.2723,  0.1896],\n",
      "         [-0.2776, -0.3924]]], grad_fn=<ReshapeAliasBackward0>)}\n",
      "\n",
      "Dst node data : {'h': tensor([[0., 0.]]), 'i': tensor([3])}\n",
      "\n",
      "Average incoming messages: h1 = Mean(m)\n",
      "{'h1': tensor([[-0.2750, -0.1014]], grad_fn=<MeanBackward1>)}\n",
      "\n",
      "------\n"
     ]
    }
   ],
   "source": [
    "g.update_all(message_func, aggregate_func)"
   ]
  },
  {
   "cell_type": "code",
   "execution_count": 24,
   "id": "b51c63bd-cd92-441a-a648-78c7e4b5a3cf",
   "metadata": {},
   "outputs": [
    {
     "data": {
      "text/plain": [
       "tensor([[1., 0.],\n",
       "        [0., 0.],\n",
       "        [0., 0.],\n",
       "        [0., 0.]])"
      ]
     },
     "execution_count": 24,
     "metadata": {},
     "output_type": "execute_result"
    }
   ],
   "source": [
    "g.ndata['h']"
   ]
  },
  {
   "cell_type": "code",
   "execution_count": 25,
   "id": "8d0d02e6-2b7d-4015-a513-9d12aa06f7eb",
   "metadata": {},
   "outputs": [
    {
     "data": {
      "text/plain": [
       "tensor([[ 0.0000,  0.0000],\n",
       "        [-0.2776, -0.3924],\n",
       "        [-0.2776, -0.3924],\n",
       "        [-0.2750, -0.1014]], grad_fn=<IndexCopyBackward0>)"
      ]
     },
     "execution_count": 25,
     "metadata": {},
     "output_type": "execute_result"
    }
   ],
   "source": [
    "g.ndata['h1']"
   ]
  },
  {
   "cell_type": "code",
   "execution_count": 26,
   "id": "dffc0abc-2cbc-478c-8fbf-80ecb81994ca",
   "metadata": {},
   "outputs": [
    {
     "data": {
      "image/png": "[encoded data removed]",
      "text/plain": [
       "<Figure size 640x480 with 1 Axes>"
      ]
     },
     "metadata": {},
     "output_type": "display_data"
    }
   ],
   "source": [
    "plt.figure(1)\n",
    "plt.subplot(111)\n",
    "nx.draw(g.to_networkx(), with_labels=True)"
   ]
  },
  {
   "cell_type": "code",
   "execution_count": null,
   "id": "1415c9be-be73-4c71-aa50-b7b3646ff7e3",
   "metadata": {},
   "outputs": [],
   "source": []
  }
 ],
 "metadata": {
  "kernelspec": {
   "display_name": "Python 3 (ipykernel)",
   "language": "python",
   "name": "python3"
  },
  "language_info": {
   "codemirror_mode": {
    "name": "ipython",
    "version": 3
   },
   "file_extension": ".py",
   "mimetype": "text/x-python",
   "name": "python",
   "nbconvert_exporter": "python",
   "pygments_lexer": "ipython3",
   "version": "3.10.12"
  }
 },
 "nbformat": 4,
 "nbformat_minor": 5
}
